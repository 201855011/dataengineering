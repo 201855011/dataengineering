{
 "cells": [
  {
   "cell_type": "code",
   "execution_count": 1,
   "id": "87c3f121-b424-4931-bae4-ebb4b62997b5",
   "metadata": {},
   "outputs": [
    {
     "name": "stdout",
     "output_type": "stream",
     "text": [
      "[['physics', 98], ['calculus', 97], ['poetry', 85], ['history', 88]]\n",
      "[['physics', 98], ['calculus', 97], ['poetry', 85], ['history', 88], ['computer science', 100], ['visual arts', 93]]\n",
      "[['physics', 98], ['calculus', 97], ['poetry', 'Pass'], ['history', 88], ['computer science', 100], ['visual arts', 98]]\n",
      "[['politics', 80], ['latin', 96], ['dance', 97], ['architecture', 65], ['physics', 98], ['calculus', 97], ['poetry', 'Pass'], ['history', 88], ['computer science', 100], ['visual arts', 98]]\n"
     ]
    }
   ],
   "source": [
    "\"\"\"\n",
    "과제2:Gradebook \n",
    "\"\"\"\n",
    "\n",
    "subjects_grades = [[\"physics\", 98], [\"calculus\", 97], [\"poetry\", 85], [\"history\", 88]]\n",
    "print(subjects_grades)\n",
    "subjects_grades.append([\"computer science\", 100]) \n",
    "subjects_grades.append([\"visual arts\", 93])\n",
    "print(subjects_grades) \n",
    "subjects_grades[5][1] = 98  \n",
    "subjects_grades[2].remove(85) \n",
    "subjects_grades[2].append(\"Pass\") \n",
    "print(subjects_grades)\n",
    "last_semester_gradebook = [[\"politics\", 80], [\"latin\", 96],[\"dance\", 97],[\"architecture\", 65]]\n",
    "full_gradebook = last_semester_gradebook + subjects_grades\n",
    "print(full_gradebook) "
   ]
  }
 ],
 "metadata": {
  "kernelspec": {
   "display_name": "Python 3",
   "language": "python",
   "name": "python3"
  },
  "language_info": {
   "codemirror_mode": {
    "name": "ipython",
    "version": 3
   },
   "file_extension": ".py",
   "mimetype": "text/x-python",
   "name": "python",
   "nbconvert_exporter": "python",
   "pygments_lexer": "ipython3",
   "version": "3.8.8"
  }
 },
 "nbformat": 4,
 "nbformat_minor": 5
}
