{
 "cells": [
  {
   "cell_type": "code",
   "execution_count": 22,
   "id": "82a94285-09f4-46e0-a626-05d3b4ad4bce",
   "metadata": {},
   "outputs": [
    {
     "name": "stdout",
     "output_type": "stream",
     "text": [
      "Average price is 31.875000\n",
      "[25, 20, 35, 15, 15, 30, 45, 30]\n",
      "Average daily revenue is 155.000000\n",
      "['bouffant', 'pixie', 'crew', 'bowl']\n"
     ]
    }
   ],
   "source": [
    "\"\"\"\n",
    "과제 3: Carly's Clippers\n",
    "\"\"\"\n",
    "\n",
    "hairstyles = [\"bouffant\", \"pixie\", \"dreadlocks\", \"crew\", \"bowl\", \"bob\", \"mohawk\", \"flattop\"]\n",
    "\n",
    "prices = [30, 25, 40, 20, 20, 35, 50, 35]\n",
    "\n",
    "last_week = [2, 3, 5, 8, 4, 4, 6, 2]\n",
    "\n",
    "total_price = 0\n",
    "\n",
    "for price in prices:\n",
    "    total_price += price\n",
    "    \n",
    "averge_price = total_price / len(prices)\n",
    "print(\"Average price is %f\" % (averge_price))\n",
    "\n",
    "new_prices = [price -5 for price in prices]\n",
    "print(new_prices)\n",
    "\n",
    "total_revenue = 0\n",
    "\n",
    "for i in range(len(hairstyles)):\n",
    "    total_revenue += prices[i] * last_week[i]\n",
    "    \n",
    "average_daily_revenue = total_revenue / 7\n",
    "print(\"Average daily revenue is %f\" % (average_daily_revenue))\n",
    "\n",
    "cut_under_30 = [hairstyles[i] for i in range(len(new_prices)) if new_prices[i] < 30]\n",
    "print(cut_under_30)"
   ]
  }
 ],
 "metadata": {
  "kernelspec": {
   "display_name": "Python 3",
   "language": "python",
   "name": "python3"
  },
  "language_info": {
   "codemirror_mode": {
    "name": "ipython",
    "version": 3
   },
   "file_extension": ".py",
   "mimetype": "text/x-python",
   "name": "python",
   "nbconvert_exporter": "python",
   "pygments_lexer": "ipython3",
   "version": "3.8.8"
  }
 },
 "nbformat": 4,
 "nbformat_minor": 5
}
