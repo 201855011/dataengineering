{
 "cells": [
  {
   "cell_type": "code",
   "execution_count": 12,
   "id": "c4608cd5-abd9-4971-9930-62c9d35c4b51",
   "metadata": {},
   "outputs": [
    {
     "name": "stdout",
     "output_type": "stream",
     "text": [
      "2\n"
     ]
    }
   ],
   "source": [
    "\"\"\"\n",
    "4.2 fuction\n",
    "\"\"\"\n",
    "\n",
    "\"\"\"\n",
    "Fuctions vs Method\n",
    "\"\"\"\n",
    "\n",
    "def my_function(x):\n",
    "    return x + 1\n",
    "y = 3\n",
    "my_function(y)\n",
    "\n",
    "# method : 클래스 내에 정의된 함수\n",
    "\n",
    "class my_class:\n",
    "    def my_method(self):\n",
    "        return x+1\n",
    "    \n",
    "cls = my_class()\n",
    "x=1\n",
    "print(cls.my_method())\n"
   ]
  },
  {
   "cell_type": "code",
   "execution_count": 14,
   "id": "29eb8aac-5883-4e3d-807b-2f5a2f4846b9",
   "metadata": {},
   "outputs": [
    {
     "name": "stdout",
     "output_type": "stream",
     "text": [
      "2021 is a not leap year.\n"
     ]
    }
   ],
   "source": [
    "\"\"\"\n",
    "Return Keyword\n",
    "\"\"\"\n",
    "\n",
    "# Leap year : 윤년(2월 29일 까지)\n",
    "\n",
    "def check_leap_year(year):\n",
    "    if year % 4 == 0:\n",
    "        return str(year) + \" is a leap year.\"\n",
    "    else:\n",
    "        return str(year) + \" is a not leap year.\"\n",
    "\n",
    "result = check_leap_year(2021)\n",
    "print(result)"
   ]
  },
  {
   "cell_type": "code",
   "execution_count": 7,
   "id": "f4f5f303-8b40-4187-a0bb-6c300ca7f3a1",
   "metadata": {},
   "outputs": [
    {
     "name": "stdout",
     "output_type": "stream",
     "text": [
      "9 16 25\n"
     ]
    }
   ],
   "source": [
    "\"\"\"\n",
    "Returning Multiple Values\n",
    "\"\"\"\n",
    "\n",
    "def square_point(x, y, z):\n",
    "    x_squared = x ** 2 #x의 2제곱 ** 제곱\n",
    "    y_squared = y ** 2\n",
    "    z_squared = z ** 2\n",
    "    return x_squared,y_squared,z_squared\n",
    "\n",
    "three_squared,four_squared,five_squared = square_point(3,4,5)\n",
    "print(three_squared,four_squared,five_squared)"
   ]
  },
  {
   "cell_type": "code",
   "execution_count": 46,
   "id": "9a8daa4e-b63f-4a19-9ed9-f36fbc2aa4a4",
   "metadata": {},
   "outputs": [
    {
     "name": "stdout",
     "output_type": "stream",
     "text": [
      "Hello\n"
     ]
    }
   ],
   "source": [
    "\"\"\"\n",
    "Global Variables\n",
    "\"\"\"\n",
    "\n",
    "a = \"Hello\" #전역변수\n",
    "\n",
    "def prints_a():\n",
    "    print(a)\n",
    "\n",
    "prints_a()"
   ]
  },
  {
   "cell_type": "code",
   "execution_count": 8,
   "id": "a4f4f033-dbd0-46ac-b369-fd966d057dd3",
   "metadata": {},
   "outputs": [
    {
     "name": "stdout",
     "output_type": "stream",
     "text": [
      "2\n"
     ]
    }
   ],
   "source": [
    "\"\"\"\n",
    "Local Variables\n",
    "\"\"\"\n",
    "\n",
    "a= 5\n",
    "\n",
    "def f1():\n",
    "    a = 2 #지역변수를 우선적으로 참조한다 #지역변수를 함수외부에서 호출하면 에러가 발생함\n",
    "    print(a)\n",
    "    \n",
    "f1()"
   ]
  },
  {
   "cell_type": "code",
   "execution_count": 1,
   "id": "1381ec53-a9d2-437a-b53d-aaaa11398618",
   "metadata": {},
   "outputs": [
    {
     "name": "stdout",
     "output_type": "stream",
     "text": [
      "Height = 1\n",
      "width = 2\n",
      "depth = 3\n",
      "6\n",
      "Height = 2\n",
      "width = 1\n",
      "depth = 3\n",
      "6\n",
      "Height = 1\n",
      "width = 2\n",
      "depth = 3\n",
      "6\n"
     ]
    }
   ],
   "source": [
    "\"\"\"\n",
    "Keywoed Arguments and Default Values\n",
    "\"\"\"\n",
    "\n",
    "def findvolume(height,width,depth):\n",
    "    print(\"Height = \" + str(height)) #str() : 어떤 값을 문자열 값으로 변환\n",
    "    print(\"width = \" + str(width))\n",
    "    print(\"depth = \" + str(depth))\n",
    "    return height * width * depth\n",
    "    \n",
    "\n",
    "print(findvolume(1,2,3))\n",
    "print(findvolume(2,1,3))\n",
    "print(findvolume(width =2, height = 1, depth = 3))"
   ]
  },
  {
   "cell_type": "code",
   "execution_count": 3,
   "id": "5dc444fc-94e7-4e18-97bc-37e0b0936163",
   "metadata": {},
   "outputs": [],
   "source": [
    "import numpy as np \n",
    "import pandas as pd \n",
    "from matplotlib import pyplot as plt "
   ]
  },
  {
   "cell_type": "code",
   "execution_count": 6,
   "id": "3c6879a4-b9f6-4d40-8259-32c0ba2015fc",
   "metadata": {},
   "outputs": [
    {
     "name": "stdout",
     "output_type": "stream",
     "text": [
      "[1, 2, 3, 4]\n"
     ]
    }
   ],
   "source": [
    "# Creating a Numpy Array\n",
    "lst = [1, 2, 3, 4]\n",
    "\n",
    "arr = np.array(lst)\n",
    "print(lst)"
   ]
  },
  {
   "cell_type": "code",
   "execution_count": 8,
   "id": "41939808-50b9-407a-978f-50fcc9bf2148",
   "metadata": {},
   "outputs": [
    {
     "name": "stdout",
     "output_type": "stream",
     "text": [
      "int32\n"
     ]
    }
   ],
   "source": [
    "# dtype attribute\n",
    "\n",
    "print(arr.dtype) #위에서 선언한 변수 arr의 데이터타입이 int형"
   ]
  },
  {
   "cell_type": "code",
   "execution_count": 9,
   "id": "1fb8d099-4767-4d64-bfa6-f5e8cc353786",
   "metadata": {},
   "outputs": [
    {
     "name": "stdout",
     "output_type": "stream",
     "text": [
      "64\n",
      "108\n"
     ]
    }
   ],
   "source": [
    "\"\"\"\n",
    "Size Comparison of ndarray and list objects\n",
    "\"\"\"\n",
    "\n",
    "from sys import getsizeof\n",
    "\n",
    "lst = [1]  \n",
    "print(getsizeof(lst)) # int(4byte) + object meta info(4byte)\n",
    "\n",
    "arr = np.array(lst)\n",
    "print(getsizeof(arr)) #int(4byte)"
   ]
  },
  {
   "cell_type": "code",
   "execution_count": 11,
   "id": "ca100068-b17a-43bc-a04b-6d34fd36a156",
   "metadata": {},
   "outputs": [
    {
     "name": "stdout",
     "output_type": "stream",
     "text": [
      "[25, 20, 35, 15, 15, 30, 45, 30]\n",
      "[25 20 35 15 15 30 45 30]\n"
     ]
    }
   ],
   "source": [
    "\"\"\"\n",
    "Operations with Numpy Arrays\n",
    "\"\"\"\n",
    "\n",
    "prices = [30, 25, 40, 20, 20, 35, 50, 35]\n",
    "\n",
    "new_prices = [price -5 for price in prices]\n",
    "print(new_prices)\n",
    "\n",
    "prices_arr = np.array(prices)\n",
    "prices_arr = prices_arr - 5\n",
    "print(prices_arr)"
   ]
  },
  {
   "cell_type": "code",
   "execution_count": 2,
   "id": "417c0406-29c4-49c7-869f-49881c60ffe2",
   "metadata": {},
   "outputs": [
    {
     "name": "stdout",
     "output_type": "stream",
     "text": [
      "[89 87 74 92 94]\n",
      "[260 281 248 276 272]\n",
      "[86.66666667 93.66666667 82.66666667 92.         90.66666667]\n",
      "93\n",
      "[94 88]\n",
      "[[ 92  94  88  91  87]\n",
      " [ 79 100  86  93  91]\n",
      " [ 87  85  72  90  92]]\n",
      "87\n",
      "[87 91 92]\n"
     ]
    }
   ],
   "source": [
    "\"\"\"\n",
    "실습문제: 시험 점수 처리\n",
    "\"\"\"\n",
    "\n",
    "test_1 = np.array([92, 94, 88, 91, 87])\n",
    "test_2 = np.array([79, 100, 86, 93, 91])\n",
    "test_3 = np.array([87, 85, 72, 90, 92])\n",
    "\n",
    "\n",
    "test_3_fixed = test_3 + 2\n",
    "print(test_3_fixed)\n",
    "\n",
    "total_grade = test_1 + test_2 + test_3_fixed\n",
    "print(total_grade)\n",
    "\n",
    "final_grade = total_grade/3\n",
    "print(final_grade)\n",
    "\n",
    "jeremy_test_2 = test_2[3]\n",
    "print(jeremy_test_2)\n",
    "\n",
    "manual_adwoa_test_1 = np.array([test_1[1], test_1[2]]) # 결과가 list가 아닌 array 값으로 나타남\n",
    "print(manual_adwoa_test_1)\n",
    "\n",
    "student_scores = np.array([test_1, test_2, test_3]) # 배열안에 배열을 넣어 2차원 배열을 표현\n",
    "print(student_scores)\n",
    "\n",
    "print(student_scores[2,0]) #가로줄:행(row) 세로줄:열(column)\n",
    "\n",
    "print(student_scores[:,4]) # :전체를 표현 "
   ]
  },
  {
   "cell_type": "code",
   "execution_count": 13,
   "id": "b27c73e1-1733-40bb-b54a-c030d17e4ddc",
   "metadata": {},
   "outputs": [
    {
     "name": "stdout",
     "output_type": "stream",
     "text": [
      "[ True False False False False False  True  True  True  True]\n",
      "[10  9  8  9  7]\n",
      "[10  2  2  3  9  8  9  7]\n",
      "[]\n"
     ]
    }
   ],
   "source": [
    "\"\"\"\n",
    "논리연산\n",
    "\"\"\"\n",
    "a = np.array([10, 2, 2, 4, 5, 3, 9, 8, 9, 7])\n",
    "mask = a > 5\n",
    "print(mask)\n",
    "\n",
    "selected = a[a > 5]\n",
    "print(selected)\n",
    "\n",
    "selected = a[(a > 6) | (a < 4)] \n",
    "print(selected)\n",
    "\n",
    "selected = a[(a > 6) & (a < 4)] \n",
    "print(selected)"
   ]
  },
  {
   "cell_type": "code",
   "execution_count": 6,
   "id": "01bd5098-ed85-4936-a3bf-3b796f2942a5",
   "metadata": {},
   "outputs": [
    {
     "name": "stdout",
     "output_type": "stream",
     "text": [
      "[50 56 51]\n",
      "[90 85 98]\n",
      "[79 65 63 79]\n"
     ]
    }
   ],
   "source": [
    "\"\"\"\n",
    "실습문제: 골디락스 포리지(죽) 페스티벌\n",
    "\"\"\"\n",
    "\n",
    "porridge = np.array([79,65,50,63,56,90,85,98,79,51])\n",
    "\n",
    "cold = porridge[porridge<60]\n",
    "print(cold)\n",
    "\n",
    "hot = porridge[porridge>80]\n",
    "print(hot)\n",
    "\n",
    "just_right = porridge[(porridge>60) & (porridge<80)]\n",
    "print(just_right)"
   ]
  },
  {
   "cell_type": "code",
   "execution_count": 17,
   "id": "29ae7ffd-e1f6-439c-918c-ac24103fff7f",
   "metadata": {},
   "outputs": [
    {
     "name": "stdout",
     "output_type": "stream",
     "text": [
      "[0 1 2]\n",
      "[3 4 5 6 7 8]\n",
      "[3 5 7]\n"
     ]
    }
   ],
   "source": [
    "\"\"\"\n",
    "Numpy Array Attributes\n",
    "\"\"\"\n",
    "\n",
    "print(np.arange(3)) #stop 지정값 제외 0,1,2\n",
    "print(np.arange(3,9)) #start 3 stop 9 \n",
    "print(np.arange(3,9,2)) #start 3 stop 9 step(간격) 2"
   ]
  },
  {
   "cell_type": "code",
   "execution_count": 5,
   "id": "2903191e-65cb-4b43-8259-286b97842d95",
   "metadata": {},
   "outputs": [
    {
     "name": "stdout",
     "output_type": "stream",
     "text": [
      "[5 0 3 3 7 9]\n",
      "[[3 5 2 4]\n",
      " [7 6 8 8]\n",
      " [1 6 7 7]]\n",
      "[[[8 1 5 9 8]\n",
      "  [9 4 3 0 3]\n",
      "  [5 0 2 3 8]\n",
      "  [1 3 3 3 7]]\n",
      "\n",
      " [[0 1 9 9 0]\n",
      "  [4 7 3 2 7]\n",
      "  [2 0 0 4 5]\n",
      "  [5 6 8 4 1]]\n",
      "\n",
      " [[4 9 8 1 1]\n",
      "  [7 9 9 3 6]\n",
      "  [7 2 0 3 5]\n",
      "  [9 4 4 6 4]]]\n"
     ]
    }
   ],
   "source": [
    "\"\"\"\n",
    "Random number\n",
    "\"\"\"\n",
    "\n",
    "np.random.seed(0) # 난수배열을 지정함\n",
    "arr1 = np.random.randint(10, size = 6) #(high, size) high = 10(0~9)\n",
    "print(arr1)\n",
    "\n",
    "arr2 = np.random.randint(10, size = (3,4)) #3row 4column\n",
    "print(arr2)\n",
    "\n",
    "arr3 = np.random.randint(10, size = (3,4,5))\n",
    "print(arr3)"
   ]
  },
  {
   "cell_type": "code",
   "execution_count": 22,
   "id": "7459c734-7bbe-424c-a3f5-1582ff08131c",
   "metadata": {},
   "outputs": [
    {
     "name": "stdout",
     "output_type": "stream",
     "text": [
      "[[3 5 2 4]\n",
      " [7 6 8 8]\n",
      " [1 6 7 7]]\n",
      "arr2.ndim = 2\n",
      "arr2.shpe = (3, 4)\n",
      "arr2.size = 12\n",
      "arr2.dtype = int32\n",
      "arr2.itemsize = 4\n",
      "arr2.nbytes = 48\n"
     ]
    }
   ],
   "source": [
    "print(arr2)\n",
    "\n",
    "print(\"arr2.ndim =\", arr2.ndim) #차원개수 \n",
    "print(\"arr2.shpe =\", arr2.shape) # 배열 차원 크기 ex.)size = (3,4)\n",
    "print(\"arr2.size =\", arr2.size) # 전체 배열 크기(배열 원소 개수)\n",
    "\n",
    "print(\"arr2.dtype =\", arr2.dtype) # 배열 데이터 타입\n",
    "print(\"arr2.itemsize =\", arr2.itemsize) # 배열 원소 별 메모리 크기 \n",
    "print(\"arr2.nbytes =\", arr2.nbytes) # 전체 배열 메모리 크기"
   ]
  },
  {
   "cell_type": "code",
   "execution_count": 54,
   "id": "222a2fea-0741-4f8c-bbb2-a1165a558162",
   "metadata": {},
   "outputs": [
    {
     "name": "stdout",
     "output_type": "stream",
     "text": [
      "[0 1 2 3 4 5 6 7 8 9]\n",
      "[3 4 5 6]\n",
      "[0 1 2 3 4]\n",
      "[5 6 7 8 9]\n",
      "[0 3 6 9]\n",
      "[2 4 6]\n"
     ]
    }
   ],
   "source": [
    "\"\"\"\n",
    "Slicing\n",
    "\"\"\"\n",
    "\n",
    "arr = np.arange(10)\n",
    "print(arr)\n",
    "\n",
    "print(arr[3:7])\n",
    "print(arr[:5]) \n",
    "print(arr[5:])\n",
    "print(arr[::3])\n",
    "print(arr[2:8:2])"
   ]
  },
  {
   "cell_type": "code",
   "execution_count": 34,
   "id": "c10270f2-1226-4acc-a841-be2129093bc1",
   "metadata": {},
   "outputs": [
    {
     "name": "stdout",
     "output_type": "stream",
     "text": [
      "[[5 0 3 3 7 9 3 5]\n",
      " [2 4 7 6 8 8 1 6]\n",
      " [7 7 8 1 5 9 8 9]\n",
      " [4 3 0 3 5 0 2 3]\n",
      " [8 1 3 3 3 7 0 1]\n",
      " [9 9 0 4 7 3 2 7]]\n",
      "[[5 0 2]\n",
      " [3 7 0]]\n"
     ]
    }
   ],
   "source": [
    "np.random.seed(0)\n",
    "arr = np.random.randint(10, size = (6,8))\n",
    "print(arr)\n",
    "\n",
    "arr_sub = arr[3:5,4:7]\n",
    "print(arr_sub)"
   ]
  },
  {
   "cell_type": "code",
   "execution_count": 53,
   "id": "1fb2e636-95b3-4395-9409-a2624726ce1d",
   "metadata": {},
   "outputs": [
    {
     "name": "stdout",
     "output_type": "stream",
     "text": [
      "[[5 0 3 3]\n",
      " [7 9 3 5]\n",
      " [2 4 7 6]] \n",
      "\n",
      "[[5 0]\n",
      " [7 9]] \n",
      "\n",
      "[[99  0]\n",
      " [ 7  9]]\n"
     ]
    }
   ],
   "source": [
    "# .copy()\n",
    "\n",
    "np.random.seed(0)\n",
    "arr = np.random.randint(10, size = (3,4))\n",
    "print(arr, \"\\n\")\n",
    "\n",
    "arr_sub = arr[:2,:2].copy()\n",
    "print(arr_sub,\"\\n\")\n",
    "\n",
    "arr_sub[0,0] = 99\n",
    "print(arr_sub)"
   ]
  },
  {
   "cell_type": "code",
   "execution_count": 60,
   "id": "75630629-293c-4591-998c-02e57d29c028",
   "metadata": {},
   "outputs": [
    {
     "name": "stdout",
     "output_type": "stream",
     "text": [
      "[1 2 3 4 5 6 7 8 9] \n",
      "\n",
      "[[1 2 3]\n",
      " [4 5 6]\n",
      " [7 8 9]]  \n",
      "\n"
     ]
    }
   ],
   "source": [
    "# arr.reshape() 배열 형상 변경 메소드 \n",
    "\n",
    "arr = np.arange(1,10)\n",
    "print(arr,'\\n')\n",
    "\n",
    "#reshape\n",
    "grid = arr.reshape(3, 3)\n",
    "print(grid, ' \\n')"
   ]
  },
  {
   "cell_type": "code",
   "execution_count": 68,
   "id": "65a3238f-bfb4-4387-acd1-41b74026c8eb",
   "metadata": {},
   "outputs": [
    {
     "name": "stdout",
     "output_type": "stream",
     "text": [
      "[1 2 3]\n",
      "arr.ndim =  1\n",
      "arr.shape =  (3,)\n",
      "[[1]\n",
      " [2]\n",
      " [3]]\n",
      "arr_new.ndim =  2\n",
      "arr_new.shape =  (3, 1)\n"
     ]
    }
   ],
   "source": [
    "# np.newaxis 배열의 추가 차원\n",
    "\n",
    "arr = np.array([1, 2, 3])\n",
    "print(arr)\n",
    "print(\"arr.ndim = \", arr.ndim)\n",
    "print(\"arr.shape = \", arr.shape)\n",
    "\n",
    "arr_new = arr[:, np.newaxis] #배열 추가\n",
    "print(arr_new)\n",
    "print(\"arr_new.ndim = \", arr_new.ndim)\n",
    "print(\"arr_new.shape = \", arr_new.shape)"
   ]
  },
  {
   "cell_type": "code",
   "execution_count": 85,
   "id": "71cffb70-b29c-4331-b0a8-9cf176f5f7f2",
   "metadata": {},
   "outputs": [
    {
     "name": "stdout",
     "output_type": "stream",
     "text": [
      "[[1 2 3 4 5 6 7 8 9]\n",
      " [1 2 3 4 5 6 7 8 9]] \n",
      "\n",
      "[[1 2 3]\n",
      " [1 2 3]\n",
      " [4 5 6]\n",
      " [4 5 6]\n",
      " [7 8 9]\n",
      " [7 8 9]] \n",
      "\n",
      "[[1 2 3 4 5 6 7 8 9]\n",
      " [1 2 3 4 5 6 7 8 9]] \n",
      "\n"
     ]
    }
   ],
   "source": [
    "# np.concatenate 배열 연결 메서드\n",
    "\n",
    "arr_1 = np.array([[1, 2, 3],[1, 2, 3]])\n",
    "arr_2 = np.array([[4, 5, 6],[4, 5, 6]])\n",
    "arr_3 = np.array([[7, 8, 9],[7, 8, 9]])\n",
    "\n",
    "arr_total = np.concatenate([arr_1,arr_2,arr_3], axis = 1) #axis = 0(row 방향) axis = 1(column 방향)\n",
    "print(arr_total, '\\n')\n",
    "\n",
    "arr_total = np.vstack([arr_1,arr_2,arr_3])\n",
    "print(arr_total, '\\n')\n",
    "\n",
    "arr_total = np.hstack([arr_1,arr_2,arr_3])\n",
    "print(arr_total, '\\n')"
   ]
  },
  {
   "cell_type": "code",
   "execution_count": 69,
   "id": "9c91febe-e3f0-4528-9a73-f796b5d863a6",
   "metadata": {},
   "outputs": [
    {
     "name": "stdout",
     "output_type": "stream",
     "text": [
      "[1, 2, 3, 99, 99, 3, 2, 1] \n",
      "\n",
      "[1 2 3] [99 99] [3 2 1]\n"
     ]
    }
   ],
   "source": [
    "# 배열 분할 메서드 np.split np.vsplit np.hsplit \n",
    "\n",
    "arr = [1,2,3,99,99,3,2,1]\n",
    "print(arr,'\\n')\n",
    "\n",
    "arr_1, arr_2, arr_3 = np.split(arr,[3,5]) # np.split(arr(원본배열),[start:stop])\n",
    "print(arr_1,arr_2,arr_3)"
   ]
  }
 ],
 "metadata": {
  "kernelspec": {
   "display_name": "Python 3",
   "language": "python",
   "name": "python3"
  },
  "language_info": {
   "codemirror_mode": {
    "name": "ipython",
    "version": 3
   },
   "file_extension": ".py",
   "mimetype": "text/x-python",
   "name": "python",
   "nbconvert_exporter": "python",
   "pygments_lexer": "ipython3",
   "version": "3.8.8"
  }
 },
 "nbformat": 4,
 "nbformat_minor": 5
}
