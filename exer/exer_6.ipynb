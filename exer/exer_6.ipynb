{
 "cells": [
  {
   "cell_type": "code",
   "execution_count": 2,
   "id": "1d87acb4-b464-438d-8926-4d65ee383437",
   "metadata": {},
   "outputs": [],
   "source": [
    "import numpy as np "
   ]
  },
  {
   "cell_type": "code",
   "execution_count": 49,
   "id": "97be5d7e-8861-4f02-b691-948b69492dd7",
   "metadata": {},
   "outputs": [
    {
     "name": "stdout",
     "output_type": "stream",
     "text": [
      "[5 1 6 3 2]\n"
     ]
    }
   ],
   "source": [
    "def compute_reciprocals(values):\n",
    "    output = np.empty(len(values))\n",
    "    for i in range(len(values)):\n",
    "        output[i] = 1.0 / values[i]\n",
    "    return output\n",
    "\n",
    "\n",
    "values = np.random.randint(1, 10, size=5)\n",
    "print(values)"
   ]
  },
  {
   "cell_type": "code",
   "execution_count": 52,
   "id": "f8d88be1-4799-4781-91d0-05ee21f9d77e",
   "metadata": {},
   "outputs": [
    {
     "name": "stdout",
     "output_type": "stream",
     "text": [
      "10.1 ms ± 136 µs per loop (mean ± std. dev. of 7 runs, 100 loops each)\n"
     ]
    }
   ],
   "source": [
    "%timeit 1 / big_array"
   ]
  },
  {
   "cell_type": "code",
   "execution_count": 53,
   "id": "14779e3b-80ba-4335-a20a-7a29d88110c0",
   "metadata": {},
   "outputs": [
    {
     "name": "stdout",
     "output_type": "stream",
     "text": [
      "6.95 s ± 136 ms per loop (mean ± std. dev. of 7 runs, 1 loop each)\n"
     ]
    }
   ],
   "source": [
    "big_array = np.random.randint(1, 100, size=1000000)\n",
    "\n",
    "%timeit compute_reciprocals(big_array)"
   ]
  },
  {
   "cell_type": "code",
   "execution_count": 10,
   "id": "33914d78-a6ee-46f5-9b60-80d5dd92ea2a",
   "metadata": {},
   "outputs": [
    {
     "name": "stdout",
     "output_type": "stream",
     "text": [
      "[5 8 9 5 0] [0 1 7 6 9]\n",
      "[ 3  6  7  3 -2] [0 1 7 6 9]\n",
      "[ 3  7 14  9  7]\n",
      "[[2 4 5 2 4]\n",
      " [2 4 7 7 9]\n",
      " [1 7 0 6 9]]\n",
      "[[ 4 16 25  4 16]\n",
      " [ 4 16 49 49 81]\n",
      " [ 1 49  0 36 81]]\n"
     ]
    }
   ],
   "source": [
    "np.random.seed(1) #고정된 난수 배열\n",
    "arr1 = np.random.randint(10, size=5)\n",
    "arr2 = np.random.randint(10, size=5)\n",
    "print(arr1,arr2)\n",
    "\n",
    "arr1 = arr1 - 2\n",
    "print(arr1,arr2)\n",
    "\n",
    "arr3 = arr1 + arr2\n",
    "print(arr3)\n",
    "\n",
    "arr4 = np.random.randint(10, size=(3,5)) \n",
    "print(arr4)\n",
    "\n",
    "arr5 = arr4 ** 2\n",
    "print(arr5)"
   ]
  },
  {
   "cell_type": "code",
   "execution_count": 19,
   "id": "95e53c52-da72-4b90-ab01-29f5bb4496d9",
   "metadata": {},
   "outputs": [
    {
     "name": "stdout",
     "output_type": "stream",
     "text": [
      "[2 1 0 1 2]\n",
      "[5. 5. 2. 1.]\n"
     ]
    }
   ],
   "source": [
    "#np.abs() 절댓값 계산\n",
    "\n",
    "x= np.array([-2, -1, 0 ,1, 2])\n",
    "print(np.abs(x))\n",
    "\n",
    "x= np.array([3-4j, 4-3j, 2+0j, 0+1j])\n",
    "print(np.abs(x))"
   ]
  },
  {
   "cell_type": "code",
   "execution_count": 2,
   "id": "987cfdb1-6156-4246-abf9-bc3053dadaf3",
   "metadata": {},
   "outputs": [
    {
     "name": "stdout",
     "output_type": "stream",
     "text": [
      "[0.         1.57079633 3.14159265]\n",
      "[0.0000000e+00 1.0000000e+00 1.2246468e-16]\n",
      "[ 1.000000e+00  6.123234e-17 -1.000000e+00]\n",
      "[ 0.00000000e+00  1.63312394e+16 -1.22464680e-16]\n",
      "[  0.  10.  20.  30.  40.  50.  60.  70.  80.  90. 100.]\n"
     ]
    }
   ],
   "source": [
    "# np.linspace(start, stop, num) \n",
    "# ex.) x = np.linspace(0, 100, 5) -> 0 25 50 75 100\n",
    "\n",
    "theta = np.linspace(0, np.pi, 3)\n",
    "\n",
    "print(theta)\n",
    "print(np.sin(theta))\n",
    "print(np.cos(theta))\n",
    "print(np.tan(theta))\n",
    "\n",
    "x= np.linspace(0, 100, 11)\n",
    "print(x)"
   ]
  },
  {
   "cell_type": "code",
   "execution_count": 3,
   "id": "9003b2ed-e3f4-4303-aba2-05cbbe1e1202",
   "metadata": {},
   "outputs": [
    {
     "name": "stdout",
     "output_type": "stream",
     "text": [
      "[1 2 3 4]\n",
      "10\n",
      "24\n"
     ]
    }
   ],
   "source": [
    "#reduce 함수\n",
    "\n",
    "x= np.arange(1,5)\n",
    "print(x)\n",
    "\n",
    "aggr = np.add.reduce(x) \n",
    "print(aggr) #원소의 합을 나타냄\n",
    "\n",
    "aggr = np.multiply.reduce(x) #원소의 곱을 나타냄\n",
    "print(aggr)"
   ]
  },
  {
   "cell_type": "code",
   "execution_count": 4,
   "id": "0c7b0fc7-e67a-48b3-a988-4af38a5c2882",
   "metadata": {},
   "outputs": [
    {
     "name": "stdout",
     "output_type": "stream",
     "text": [
      "[1 2 3 4]\n",
      "[ 1  3  6 10]\n",
      "[ 1  2  6 24]\n"
     ]
    }
   ],
   "source": [
    "# accumulate 함수\n",
    "\n",
    "print(x)\n",
    "\n",
    "accum = np.add.accumulate(x) # 중간 합의 집계를 보여줌\n",
    "print(accum)\n",
    "\n",
    "accum = np.multiply.accumulate(x) # 중간 곱의 집계를 보여줌\n",
    "print(accum)"
   ]
  },
  {
   "cell_type": "code",
   "execution_count": 38,
   "id": "0bbc1d5a-5a05-4860-8673-c44718aeb6a0",
   "metadata": {},
   "outputs": [
    {
     "name": "stdout",
     "output_type": "stream",
     "text": [
      "[0.5507979  0.70814782 0.29090474 ... 0.12599742 0.94189543 0.89025983]\n",
      "sum = 50103.284993937086\n"
     ]
    }
   ],
   "source": [
    "np.random.seed(3)\n",
    "arr = np.random.rand(100000) # rand() : create 0~1 real number\n",
    "\n",
    "print(arr)\n",
    "print(\"sum =\",np.sum(arr))"
   ]
  },
  {
   "cell_type": "code",
   "execution_count": 41,
   "id": "bf15776a-cb3d-4c58-a465-2fe8c370f60c",
   "metadata": {},
   "outputs": [
    {
     "name": "stdout",
     "output_type": "stream",
     "text": [
      "7.35 ms ± 285 µs per loop (mean ± std. dev. of 7 runs, 100 loops each)\n"
     ]
    }
   ],
   "source": [
    "%timeit sum(arr)"
   ]
  },
  {
   "cell_type": "code",
   "execution_count": 43,
   "id": "8d65139e-6ae2-4b04-bd98-3233137a1186",
   "metadata": {},
   "outputs": [
    {
     "name": "stdout",
     "output_type": "stream",
     "text": [
      "40.5 µs ± 1.78 µs per loop (mean ± std. dev. of 7 runs, 10000 loops each)\n"
     ]
    }
   ],
   "source": [
    "%timeit np.sum(arr) #1000µs = 1ms numpy가 더 빠르다"
   ]
  },
  {
   "cell_type": "code",
   "execution_count": 48,
   "id": "56e5e7be-bccb-4c7d-a62a-641c2f44b333",
   "metadata": {},
   "outputs": [
    {
     "name": "stdout",
     "output_type": "stream",
     "text": [
      "max = 0.9999992160832805\n",
      "min = 1.4735641223229123e-05\n",
      "mean = 0.5010328499393709\n",
      "median = 0.5003519408181236\n",
      "percentile = 0.9017140534612551\n",
      "False\n",
      "True\n"
     ]
    }
   ],
   "source": [
    "\"\"\"\n",
    "np.sum() 배열 원소 합\n",
    "np.prod() 배열 원소 곱\n",
    "np.max() 최댓값\n",
    "np.min() 최솟값\n",
    "np.mean() 평균값\n",
    "np.median() 중앙값\n",
    "np.percentile() 하위%의 원소\n",
    "np.std() 표준편차\n",
    "np.var() 분산\n",
    "np.argmax() 최댓값 원소 인덱스\n",
    "np.argmin() 최솟값 원소 인덱스\n",
    "np.any() 참을 만족하는 원소가 있는지\n",
    "np.all() 모든 원소들이 참을 만족하는지\n",
    "\"\"\"\n",
    "\n",
    "print(\"max =\",np.max(arr)) # np.max() 최댓값\n",
    "print(\"min =\",np.min(arr)) # np.min() 최솟값\n",
    "print(\"mean =\",np.mean(arr)) # np.mean() 평균값\n",
    "print(\"median =\",np.median(arr)) #np.median() 중간값\n",
    "print(\"percentile =\",np.percentile(arr,90)) # np.percentile() 하위%의 원소\n",
    "                                            # np.percentile(arr,90) arr의 하위90%원소의 값\n",
    "print(np.any(arr>1)) \n",
    "print(np.all(arr>0)) "
   ]
  },
  {
   "cell_type": "code",
   "execution_count": 2,
   "id": "e41ea987-ad1f-4887-b4f1-a2e55c6b8698",
   "metadata": {},
   "outputs": [
    {
     "name": "stdout",
     "output_type": "stream",
     "text": [
      "[[3 6 6 0]\n",
      " [9 8 4 7]\n",
      " [0 0 7 1]]\n",
      "[12 14 17  8]\n",
      "[15 28  8]\n"
     ]
    }
   ],
   "source": [
    "np.random.seed(5)\n",
    "arr = np.random.randint(10, size = (3,4))\n",
    "print(arr)\n",
    "\n",
    "print(np.sum(arr, axis=0)) \n",
    "print(np.sum(arr, axis=1))"
   ]
  },
  {
   "cell_type": "code",
   "execution_count": 8,
   "id": "181fd087-6a31-4b14-9e20-1692ac79d60c",
   "metadata": {},
   "outputs": [
    {
     "name": "stdout",
     "output_type": "stream",
     "text": [
      "[[1. 1. 1.]\n",
      " [1. 1. 1.]\n",
      " [1. 1. 1.]]\n",
      "[0 1 2]\n",
      "[[1. 2. 3.]\n",
      " [1. 2. 3.]\n",
      " [1. 2. 3.]]\n"
     ]
    }
   ],
   "source": [
    "a = np.ones((3,3)) \n",
    "print(a)\n",
    "b= np.arange(3)\n",
    "print(b)\n",
    "\n",
    "print(a+b)"
   ]
  },
  {
   "cell_type": "code",
   "execution_count": 12,
   "id": "803f803c-191e-4627-ad8c-6ab83f6cb7e9",
   "metadata": {},
   "outputs": [
    {
     "name": "stdout",
     "output_type": "stream",
     "text": [
      "[0 1 2]\n",
      "[[0]\n",
      " [1]\n",
      " [2]]\n",
      "[0 1 2]\n",
      "[[0 1 2]\n",
      " [1 2 3]\n",
      " [2 3 4]]\n"
     ]
    }
   ],
   "source": [
    "a = np.arange(3)\n",
    "print(a)\n",
    "a = a[:, np.newaxis] # culumn 방향으로 바꾼다\n",
    "print(a)\n",
    "b= np.arange(3)\n",
    "print(b)\n",
    "\n",
    "print(a+b) # a와 b 3*3행렬로 만든 후 덧셈을 한다"
   ]
  },
  {
   "cell_type": "code",
   "execution_count": 17,
   "id": "374796e3-1f03-4f53-b9bf-7b7b8d3c38fa",
   "metadata": {},
   "outputs": [
    {
     "name": "stdout",
     "output_type": "stream",
     "text": [
      "[[1. 1. 1.]\n",
      " [1. 1. 1.]]\n",
      "[0 1 2]\n",
      "[[1. 2. 3.]\n",
      " [1. 2. 3.]]\n"
     ]
    }
   ],
   "source": [
    "a = np.ones((2, 3))\n",
    "print(a)\n",
    "\n",
    "b = np.arange(3)\n",
    "print(b)\n",
    "\n",
    "print(a+b)"
   ]
  },
  {
   "cell_type": "code",
   "execution_count": 3,
   "id": "90f10215-c2c8-4059-bb79-611124a3eb13",
   "metadata": {},
   "outputs": [
    {
     "name": "stdout",
     "output_type": "stream",
     "text": [
      "[[0]\n",
      " [1]\n",
      " [2]]\n",
      "[0 1 2]\n",
      "[[0 1 2]\n",
      " [1 2 3]\n",
      " [2 3 4]]\n"
     ]
    }
   ],
   "source": [
    "a = np.arange(3)\n",
    "a = a.reshape((3,1))\n",
    "print(a)\n",
    "b = np.arange(3)\n",
    "print(b)\n",
    "\n",
    "print(a+b)"
   ]
  },
  {
   "cell_type": "code",
   "execution_count": 9,
   "id": "f1426c09-45e3-4557-812c-6d9154bc722e",
   "metadata": {},
   "outputs": [
    {
     "name": "stdout",
     "output_type": "stream",
     "text": [
      "[1 2 3 4 5]\n",
      "[ True  True False False False]\n",
      "[False False  True  True  True]\n",
      "[ True  True False  True  True]\n"
     ]
    }
   ],
   "source": [
    "x = np.array([1, 2, 3, 4, 5])\n",
    "print(x)\n",
    "\n",
    "print(x < 3)\n",
    "print(x >= 3)\n",
    "print(x != 3)"
   ]
  },
  {
   "cell_type": "code",
   "execution_count": 13,
   "id": "d82da557-e283-4e92-9fcf-f3bce5c9f93a",
   "metadata": {},
   "outputs": [
    {
     "name": "stdout",
     "output_type": "stream",
     "text": [
      "[[5 0 3 3]\n",
      " [7 9 3 5]\n",
      " [2 4 7 6]]\n",
      "[[ True  True  True  True]\n",
      " [False False  True  True]\n",
      " [ True  True False False]]\n"
     ]
    }
   ],
   "source": [
    "np.random.seed(0)\n",
    "\n",
    "x = np.random.randint(10, size=(3,4)) # 0~9까지의 수 3*4 행렬\n",
    "print(x)\n",
    "\n",
    "print(x<6)"
   ]
  },
  {
   "cell_type": "code",
   "execution_count": 22,
   "id": "7e2360b6-34c2-4eee-ad66-3b814ca0ba24",
   "metadata": {},
   "outputs": [
    {
     "name": "stdout",
     "output_type": "stream",
     "text": [
      "[[5 0 3 3]\n",
      " [7 9 3 5]\n",
      " [2 4 7 6]]\n",
      "8\n",
      "8\n",
      "False\n",
      "False\n"
     ]
    }
   ],
   "source": [
    "# Boolean 의 정수 표현: True: 1, False: 0\n",
    "\n",
    "print(x)\n",
    "\n",
    "print(np.count_nonzero(x < 6)) # x < 6 보다 작은 수의 개수(True의 개수)\n",
    "\n",
    "print(np.sum(x < 6)) # count_nonzero 와 같은 값이 나옴\n",
    "\n",
    "print(np.any(x > 9))\n",
    "\n",
    "print(np.all(x > 1))"
   ]
  },
  {
   "cell_type": "code",
   "execution_count": 26,
   "id": "5730500a-1945-49f8-9697-b8186b606a35",
   "metadata": {},
   "outputs": [
    {
     "name": "stdout",
     "output_type": "stream",
     "text": [
      "[[False  True  True  True]\n",
      " [False False  True False]\n",
      " [ True  True False False]]\n",
      "[0 3 3 3 2 4]\n",
      "1.2583057392117916\n"
     ]
    }
   ],
   "source": [
    "#Masking operation\n",
    "\n",
    "print(x < 5)\n",
    "\n",
    "print(x[x < 5]) # True의 값들을 배열로 나타내줌\n",
    "\n",
    "print(np.std(x[x < 5]))"
   ]
  },
  {
   "cell_type": "code",
   "execution_count": 37,
   "id": "90f9baa5-4918-483e-b883-c8ce04ea986f",
   "metadata": {},
   "outputs": [
    {
     "name": "stdout",
     "output_type": "stream",
     "text": [
      "[37 12 72  9 75  5 79 64 16  1]\n",
      "72 75 79\n",
      "[72 75 79]\n"
     ]
    }
   ],
   "source": [
    "# 팬시 인덱싱 : 한번에 여러 배열 원소에 접근하는 방법\n",
    "\n",
    "np.random.seed(1)\n",
    "x = np.random.randint(100, size = 10)\n",
    "print(x)\n",
    "\n",
    "print(x[2], x[4], x[6])\n",
    "\n",
    "ind = [2,4,6]\n",
    "print(x[ind])"
   ]
  },
  {
   "cell_type": "code",
   "execution_count": 58,
   "id": "dedeba38-fc7d-44b4-ac21-d6f3c6d8f6f8",
   "metadata": {},
   "outputs": [
    {
     "name": "stdout",
     "output_type": "stream",
     "text": [
      "[[8 8 6 2 8]\n",
      " [7 2 1 5 4]\n",
      " [4 5 7 3 6]]\n",
      "[8 5 7]\n"
     ]
    }
   ],
   "source": [
    "np.random.seed(2)\n",
    "x = np.random.randint(10, size =(3,5))\n",
    "print(x)\n",
    "\n",
    "row = [0, 1, 2]\n",
    "col = [1, 3, 2]\n",
    "\n",
    "print(x[row,col])"
   ]
  },
  {
   "cell_type": "code",
   "execution_count": 3,
   "id": "bdd491b2-0a00-444e-a4ab-508f5440f836",
   "metadata": {},
   "outputs": [
    {
     "name": "stdout",
     "output_type": "stream",
     "text": [
      "[[5 0 3 3 7]\n",
      " [9 3 5 2 4]\n",
      " [7 6 8 8 1]]\n",
      "[[3 0 7]\n",
      " [5 3 4]\n",
      " [8 6 1]]\n"
     ]
    }
   ],
   "source": [
    "np.random.seed(0)\n",
    "x = np.random.randint(10, size = (3,5))\n",
    "print(x)\n",
    "row = np.array([0, 1, 2])\n",
    "col = np.array([2, 1, 4])\n",
    "\n",
    "print(x[row[:, np.newaxis], col])"
   ]
  },
  {
   "cell_type": "code",
   "execution_count": 9,
   "id": "7d0d08b3-7903-4bea-978d-8af5288241bf",
   "metadata": {},
   "outputs": [
    {
     "name": "stdout",
     "output_type": "stream",
     "text": [
      "[[ 1  2  3  4]\n",
      " [ 5  6  7  8]\n",
      " [ 9 10 11 12]]\n",
      "[11  9 10]\n",
      "[[ 7  5  6]\n",
      " [11  9 10]]\n"
     ]
    }
   ],
   "source": [
    "x = np.arange(1,13).reshape(3,4)\n",
    "print(x)\n",
    "\n",
    "print(x[2, [2, 0, 1]])\n",
    "print(x[1:, [2, 0, 1]]) # row 1: 1부터 끝까지"
   ]
  }
 ],
 "metadata": {
  "kernelspec": {
   "display_name": "Python 3",
   "language": "python",
   "name": "python3"
  },
  "language_info": {
   "codemirror_mode": {
    "name": "ipython",
    "version": 3
   },
   "file_extension": ".py",
   "mimetype": "text/x-python",
   "name": "python",
   "nbconvert_exporter": "python",
   "pygments_lexer": "ipython3",
   "version": "3.8.8"
  }
 },
 "nbformat": 4,
 "nbformat_minor": 5
}
