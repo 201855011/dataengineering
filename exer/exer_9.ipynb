{
 "cells": [
  {
   "cell_type": "code",
   "execution_count": null,
   "id": "04af207f-7380-4866-b322-47534f308a8f",
   "metadata": {},
   "outputs": [],
   "source": [
    "\"\"\"\n",
    "결측 데이터의 표현\n",
    "\n",
    "마스크 : 전체 결측 데이터를 부울 배열 또는 추가 비트로 표현\n",
    "\n",
    "센티널 값 : 개별 결측 값을 표현\n",
    "\n",
    "pandas는 센티널 값 방식으로 결측 값을 표현\n",
    "\"\"\""
   ]
  },
  {
   "cell_type": "code",
   "execution_count": 2,
   "id": "008ac0fa-8597-4d20-94e8-cbc5aa53499e",
   "metadata": {},
   "outputs": [
    {
     "data": {
      "text/plain": [
       "array([1, None, 3, 4], dtype=object)"
      ]
     },
     "execution_count": 2,
     "metadata": {},
     "output_type": "execute_result"
    }
   ],
   "source": [
    "import numpy as np\n",
    "import pandas as pd\n",
    "\n",
    "# None 객체 : 아무것도 없는 데이터(null 값) 오브젝트 타입은 int형보다 느리다\n",
    "arr1 = np.array([1, None, 3, 4]) \n",
    "arr1.t"
   ]
  },
  {
   "cell_type": "code",
   "execution_count": 16,
   "id": "43b1838c-c2e3-482e-9446-9e4d02e70386",
   "metadata": {},
   "outputs": [
    {
     "data": {
      "text/plain": [
       "dtype('float64')"
      ]
     },
     "execution_count": 16,
     "metadata": {},
     "output_type": "execute_result"
    }
   ],
   "source": [
    "# NaN 값 : 숫자 형태의 null값 또는 결측 값을 표현 특수한형태의 실수값(floating point값) 실수로 인식한다 \n",
    "\n",
    "arr1 = np.array([1, np.nan, 3, 4])\n",
    "arr1.dtype"
   ]
  },
  {
   "cell_type": "code",
   "execution_count": 4,
   "id": "38a643b1-eb5f-4aed-a7a9-422e39ac9991",
   "metadata": {},
   "outputs": [
    {
     "data": {
      "text/plain": [
       "nan"
      ]
     },
     "execution_count": 4,
     "metadata": {},
     "output_type": "execute_result"
    }
   ],
   "source": [
    "# 오류는 발생하지않는다\n",
    "\n",
    "arr1.sum()"
   ]
  },
  {
   "cell_type": "code",
   "execution_count": 17,
   "id": "17a1d812-68cd-46ec-b5fc-94e59d4dc13a",
   "metadata": {},
   "outputs": [
    {
     "data": {
      "text/plain": [
       "8.0"
      ]
     },
     "execution_count": 17,
     "metadata": {},
     "output_type": "execute_result"
    }
   ],
   "source": [
    "np.nansum(arr1)"
   ]
  },
  {
   "cell_type": "code",
   "execution_count": 19,
   "id": "7040c30e-50d8-4d1c-8499-a6c9097fc3fc",
   "metadata": {},
   "outputs": [
    {
     "data": {
      "text/plain": [
       "0    1.0\n",
       "1    NaN\n",
       "2    2.0\n",
       "3    NaN\n",
       "dtype: float64"
      ]
     },
     "execution_count": 19,
     "metadata": {},
     "output_type": "execute_result"
    }
   ],
   "source": [
    "# pandas 에서는 None 을 NaN 값으로 변환 반드시 변환하는것은 아니다\n",
    "\n",
    "ser = pd.Series([1, np.nan, 2, None])\n",
    "ser"
   ]
  },
  {
   "cell_type": "code",
   "execution_count": 21,
   "id": "5c531c7d-eba5-41b4-bff5-a7b49f27b8b0",
   "metadata": {},
   "outputs": [
    {
     "data": {
      "text/plain": [
       "0       1\n",
       "1     NaN\n",
       "2       2\n",
       "3    None\n",
       "dtype: object"
      ]
     },
     "execution_count": 21,
     "metadata": {},
     "output_type": "execute_result"
    }
   ],
   "source": [
    "# 문자열이 섞이면 object type이다\n",
    "\n",
    "ser = pd.Series([1, np.nan, '2', None])\n",
    "ser"
   ]
  },
  {
   "cell_type": "code",
   "execution_count": null,
   "id": "084e28b8-462f-4852-ae3b-d7a0df93afb5",
   "metadata": {},
   "outputs": [],
   "source": [
    "\"\"\"\n",
    "Null 값 처리를 위한 Pandas 메서드\n",
    "\n",
    "-isnull() : 전체 결측 데이터에 대한 부울 배열(마스크) 생성\n",
    "-notnull() : isnull()의 역연산\n",
    "-dropna() : null 값 제거\n",
    "null 값을 포함하는 행 또는 열을 삭제\n",
    "- axis = 'rows' 행삭제(default) axis = 'colums' 열 삭제\n",
    "how 매개변수\n",
    "- how = 'any' : Null 값이 한개라도 포함된 행/열 삭제\n",
    "- how = 'all' : 모든 값이 전부 Null 값인 행/열 삭제\n",
    "thresh 매개변수 : 임계치를 통해 삭제될 행/열 선택\n",
    "- 삭제되지 않을 행/열 non-null 값의 최소 개수\n",
    "df.dropna(axis = 'row', thresh = 3) 살아있는 값이 3개 이상인 경우\n",
    "-fillna() : null 값 채우기 Null 값을 다른 값으로 대체\n",
    "\"\"\""
   ]
  },
  {
   "cell_type": "code",
   "execution_count": 9,
   "id": "3079b7ce-532e-4c7a-adb8-6278ad863ddd",
   "metadata": {},
   "outputs": [
    {
     "name": "stdout",
     "output_type": "stream",
     "text": [
      "0    1.0\n",
      "1    NaN\n",
      "2    3.0\n",
      "3    4.0\n",
      "dtype: float64 \n",
      "\n",
      "0    False\n",
      "1     True\n",
      "2    False\n",
      "3    False\n",
      "dtype: bool\n"
     ]
    }
   ],
   "source": [
    "print(ser, '\\n')\n",
    "print(ser.isnull()) # ser.notnull() isnull()의 역연산"
   ]
  },
  {
   "cell_type": "code",
   "execution_count": 25,
   "id": "97b176e0-b975-48cf-9ad5-b4bda7459148",
   "metadata": {},
   "outputs": [
    {
     "data": {
      "text/plain": [
       "0    1\n",
       "2    2\n",
       "dtype: object"
      ]
     },
     "execution_count": 25,
     "metadata": {},
     "output_type": "execute_result"
    }
   ],
   "source": [
    "# dataframe\n",
    "\n",
    "ser.dropna()"
   ]
  },
  {
   "cell_type": "code",
   "execution_count": 48,
   "id": "b58f9709-84c7-47b8-bb7c-ebe4de0bc05e",
   "metadata": {},
   "outputs": [
    {
     "data": {
      "text/html": [
       "<div>\n",
       "<style scoped>\n",
       "    .dataframe tbody tr th:only-of-type {\n",
       "        vertical-align: middle;\n",
       "    }\n",
       "\n",
       "    .dataframe tbody tr th {\n",
       "        vertical-align: top;\n",
       "    }\n",
       "\n",
       "    .dataframe thead th {\n",
       "        text-align: right;\n",
       "    }\n",
       "</style>\n",
       "<table border=\"1\" class=\"dataframe\">\n",
       "  <thead>\n",
       "    <tr style=\"text-align: right;\">\n",
       "      <th></th>\n",
       "      <th>0</th>\n",
       "      <th>1</th>\n",
       "      <th>2</th>\n",
       "    </tr>\n",
       "  </thead>\n",
       "  <tbody>\n",
       "    <tr>\n",
       "      <th>0</th>\n",
       "      <td>1.0</td>\n",
       "      <td>NaN</td>\n",
       "      <td>2</td>\n",
       "    </tr>\n",
       "    <tr>\n",
       "      <th>1</th>\n",
       "      <td>2.0</td>\n",
       "      <td>3.0</td>\n",
       "      <td>5</td>\n",
       "    </tr>\n",
       "    <tr>\n",
       "      <th>2</th>\n",
       "      <td>NaN</td>\n",
       "      <td>4.0</td>\n",
       "      <td>6</td>\n",
       "    </tr>\n",
       "  </tbody>\n",
       "</table>\n",
       "</div>"
      ],
      "text/plain": [
       "     0    1  2\n",
       "0  1.0  NaN  2\n",
       "1  2.0  3.0  5\n",
       "2  NaN  4.0  6"
      ]
     },
     "execution_count": 48,
     "metadata": {},
     "output_type": "execute_result"
    }
   ],
   "source": [
    "df = pd.DataFrame([[1, np.nan, 2],\n",
    "                  [2, 3, 5],\n",
    "                  [np.nan, 4, 6]])\n",
    "df"
   ]
  },
  {
   "cell_type": "code",
   "execution_count": 51,
   "id": "3843ac55-5bb9-423c-a254-750866400913",
   "metadata": {},
   "outputs": [
    {
     "data": {
      "text/html": [
       "<div>\n",
       "<style scoped>\n",
       "    .dataframe tbody tr th:only-of-type {\n",
       "        vertical-align: middle;\n",
       "    }\n",
       "\n",
       "    .dataframe tbody tr th {\n",
       "        vertical-align: top;\n",
       "    }\n",
       "\n",
       "    .dataframe thead th {\n",
       "        text-align: right;\n",
       "    }\n",
       "</style>\n",
       "<table border=\"1\" class=\"dataframe\">\n",
       "  <thead>\n",
       "    <tr style=\"text-align: right;\">\n",
       "      <th></th>\n",
       "      <th>0</th>\n",
       "      <th>1</th>\n",
       "      <th>2</th>\n",
       "    </tr>\n",
       "  </thead>\n",
       "  <tbody>\n",
       "    <tr>\n",
       "      <th>0</th>\n",
       "      <td>1.0</td>\n",
       "      <td>NaN</td>\n",
       "      <td>2</td>\n",
       "    </tr>\n",
       "    <tr>\n",
       "      <th>1</th>\n",
       "      <td>2.0</td>\n",
       "      <td>3.0</td>\n",
       "      <td>5</td>\n",
       "    </tr>\n",
       "    <tr>\n",
       "      <th>2</th>\n",
       "      <td>NaN</td>\n",
       "      <td>4.0</td>\n",
       "      <td>6</td>\n",
       "    </tr>\n",
       "  </tbody>\n",
       "</table>\n",
       "</div>"
      ],
      "text/plain": [
       "     0    1  2\n",
       "0  1.0  NaN  2\n",
       "1  2.0  3.0  5\n",
       "2  NaN  4.0  6"
      ]
     },
     "execution_count": 51,
     "metadata": {},
     "output_type": "execute_result"
    }
   ],
   "source": [
    "df.dropna(axis = 'columns', how = 'all')"
   ]
  },
  {
   "cell_type": "code",
   "execution_count": 54,
   "id": "ddca38aa-98be-4c39-b10a-907b8e14e336",
   "metadata": {},
   "outputs": [
    {
     "data": {
      "text/plain": [
       "a       1.0\n",
       "b    9999.0\n",
       "c       2.0\n",
       "d    9999.0\n",
       "e       3.0\n",
       "dtype: float64"
      ]
     },
     "execution_count": 54,
     "metadata": {},
     "output_type": "execute_result"
    }
   ],
   "source": [
    "ser = pd.Series([1, np.nan, 2, None, 3], index=list('abcde'))\n",
    "ser.fillna(9999)"
   ]
  },
  {
   "cell_type": "code",
   "execution_count": 56,
   "id": "5715ea88-ff23-4aaa-806c-3da54751442e",
   "metadata": {},
   "outputs": [
    {
     "data": {
      "text/plain": [
       "a    1.0\n",
       "b    1.0\n",
       "c    2.0\n",
       "d    2.0\n",
       "e    3.0\n",
       "dtype: float64"
      ]
     },
     "execution_count": 56,
     "metadata": {},
     "output_type": "execute_result"
    }
   ],
   "source": [
    "# Forward-fill 방식 = LOCF 결측 구간 직전 값으로 대체\n",
    "\n",
    "ser.fillna(method = 'ffill') # ser.ffill"
   ]
  },
  {
   "cell_type": "code",
   "execution_count": 57,
   "id": "4729a95d-6334-4a6f-b912-6ff9e02b3b5c",
   "metadata": {},
   "outputs": [
    {
     "data": {
      "text/plain": [
       "a    1.0\n",
       "b    2.0\n",
       "c    2.0\n",
       "d    3.0\n",
       "e    3.0\n",
       "dtype: float64"
      ]
     },
     "execution_count": 57,
     "metadata": {},
     "output_type": "execute_result"
    }
   ],
   "source": [
    "ser.fillna(method = 'bfill') # ser.bfill"
   ]
  }
 ],
 "metadata": {
  "kernelspec": {
   "display_name": "Python 3",
   "language": "python",
   "name": "python3"
  },
  "language_info": {
   "codemirror_mode": {
    "name": "ipython",
    "version": 3
   },
   "file_extension": ".py",
   "mimetype": "text/x-python",
   "name": "python",
   "nbconvert_exporter": "python",
   "pygments_lexer": "ipython3",
   "version": "3.8.8"
  }
 },
 "nbformat": 4,
 "nbformat_minor": 5
}
