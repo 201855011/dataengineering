{
 "cells": [
  {
   "cell_type": "code",
   "execution_count": 8,
   "id": "f8d47987-291b-46af-9357-a723d52946a9",
   "metadata": {},
   "outputs": [
    {
     "name": "stdout",
     "output_type": "stream",
     "text": [
      "Hellow world\n",
      "100\n",
      "3.14\n",
      "My name is jaesung Jeon!\n"
     ]
    }
   ],
   "source": [
    "\"\"\"\n",
    "prtint fuction\n",
    "\"\"\"\n",
    "print(\"Hellow world\")\n",
    "print(100)\n",
    "pi=3.14\n",
    "print(pi)\n",
    "intro = \"My name is \"\n",
    "name = \"Jaesung Jeon\"\n",
    "print(intro + name+\"!\")"
   ]
  },
  {
   "cell_type": "code",
   "execution_count": 10,
   "id": "1424799a-e31c-4fbb-8dc0-41faeaf4d4f2",
   "metadata": {},
   "outputs": [],
   "source": [
    "\"\"\"\n",
    "Variables\n",
    "\"\"\"\n",
    "user_name = \"Jaesung Jeon\"\n",
    "user_age =\"23\"\n",
    "user_email =\"blblbl12@hs.ac.kr\"\n",
    "is_student = True"
   ]
  },
  {
   "cell_type": "code",
   "execution_count": 11,
   "id": "c0dbc84f-4ed0-451f-a92a-0ac69034e808",
   "metadata": {},
   "outputs": [],
   "source": [
    "\"\"\"\n",
    "Data Types Integers\n",
    "\"\"\"\n",
    "television = 2\n",
    "table = 1\n",
    "refrigerator = 1\n",
    "broken_chair = -1 "
   ]
  },
  {
   "cell_type": "code",
   "execution_count": 12,
   "id": "1b018509-0e5f-48c0-b2a9-9a9ab88d77b1",
   "metadata": {},
   "outputs": [],
   "source": [
    "\"\"\"\n",
    "Data Types: Real Number\n",
    "\"\"\"\n",
    "pi = 3.14\n",
    "user_age = 23\n",
    "University_Tuition = 4110000"
   ]
  },
  {
   "cell_type": "code",
   "execution_count": 1,
   "id": "a37c1f4f-5382-4a73-aee7-bd680a0cbed0",
   "metadata": {},
   "outputs": [
    {
     "name": "stdout",
     "output_type": "stream",
     "text": [
      "pizza soccer big_sean\n"
     ]
    }
   ],
   "source": [
    "\"\"\"\n",
    "Data Types : String\n",
    "\"\"\"\n",
    "favorite_food = \"pizza \"\n",
    "favorite_exercise =\"soccer \"\n",
    "favorite_singer =\"big_sean\"\n",
    "print(favorite_food + favorite_exercise + favorite_singer)"
   ]
  },
  {
   "cell_type": "code",
   "execution_count": 4,
   "id": "12722838-1b12-463b-9fc3-9425eb54fc5e",
   "metadata": {},
   "outputs": [
    {
     "name": "stdout",
     "output_type": "stream",
     "text": [
      "<class 'bool'>\n",
      "<class 'int'>\n"
     ]
    }
   ],
   "source": [
    "\"\"\"\n",
    "boolean variables\n",
    "\"\"\"\n",
    "\n",
    "is_tested = False\n",
    "print(type(is_tested))\n",
    "\n",
    "a=3\n",
    "print(type(a))"
   ]
  },
  {
   "cell_type": "code",
   "execution_count": 10,
   "id": "63db5d36-46f6-4f5d-96aa-ad4954d334be",
   "metadata": {},
   "outputs": [
    {
     "name": "stdout",
     "output_type": "stream",
     "text": [
      "말티푸.\n",
      "True\n"
     ]
    }
   ],
   "source": [
    "\"\"\"\n",
    "if/elif\n",
    "\"\"\"\n",
    "\n",
    "puppy = \"maltepoo\"\n",
    "is_yes = False\n",
    "if puppy == \"maltese\":\n",
    "    print(\"말티즈.\")\n",
    "    is_yes=True\n",
    "\n",
    "elif puppy ==\"poodle\":\n",
    "    print(\"푸들.\")\n",
    "    is_yes = True\n",
    "    \n",
    "else:\n",
    "    print(\"말티푸.\")\n",
    "    is_yes = True\n",
    "    \n",
    "print(is_yes)"
   ]
  },
  {
   "cell_type": "code",
   "execution_count": 3,
   "id": "c2be10b2-00a4-4f7f-ae9e-054a3c9c3c5f",
   "metadata": {},
   "outputs": [
    {
     "name": "stdout",
     "output_type": "stream",
     "text": [
      "[2.3, 5, 7, 11]\n",
      "[]\n"
     ]
    }
   ],
   "source": [
    "\"\"\"\n",
    "Lists\n",
    "\"\"\"\n",
    "\n",
    "primes = [2.3,5,7,11]\n",
    "print(primes)\n",
    "\n",
    "empty_list =[]\n",
    "print(empty_list)"
   ]
  },
  {
   "cell_type": "code",
   "execution_count": 6,
   "id": "ef358efa-5a88-4035-9141-319307b2e111",
   "metadata": {},
   "outputs": [
    {
     "name": "stdout",
     "output_type": "stream",
     "text": [
      "['Jenny', 1, 2, 1.2, True]\n",
      "[['a', 1], ['b', 2]]\n"
     ]
    }
   ],
   "source": [
    "\"\"\"\n",
    "Multiple different data types\n",
    "\"\"\"\n",
    "mixed = ['Jenny',1,2,1.2,True]\n",
    "print(mixed)\n",
    "list_of_lists =[['a',1],['b',2]]\n",
    "print(list_of_lists)"
   ]
  },
  {
   "cell_type": "code",
   "execution_count": 10,
   "id": "7a6f3db0-2bf7-4d39-9424-53e8570abc30",
   "metadata": {},
   "outputs": [
    {
     "name": "stdout",
     "output_type": "stream",
     "text": [
      "Roger\n",
      "Rafael\n",
      "Andy\n",
      "Novak\n",
      "Novak\n",
      "Andy\n",
      "Rafael\n",
      "Roger\n"
     ]
    }
   ],
   "source": [
    "\"\"\"\n",
    "Zero indexing\n",
    "\"\"\"\n",
    "names = ['Roger','Rafael','Andy','Novak']\n",
    "\n",
    "print(names[0])\n",
    "print(names[1])\n",
    "print(names[2])\n",
    "print(names[3])\n",
    "\n",
    "print(names[-1])\n",
    "print(names[-2])\n",
    "print(names[-3])\n",
    "print(names[-4])"
   ]
  },
  {
   "cell_type": "code",
   "execution_count": 17,
   "id": "84c59c82-b5c0-43c0-b065-5cafc8e0d590",
   "metadata": {},
   "outputs": [
    {
     "name": "stdout",
     "output_type": "stream",
     "text": [
      "['생활관', '필헌관', '소통관']\n",
      "['만우관', '장공관', '필헌관', '소통관', '송암관', '늦봄관', '장준하통일관']\n"
     ]
    }
   ],
   "source": [
    "\"\"\"\n",
    "list slicing : list[start_index:end_index] ex.)tools[1:3]\n",
    "\"\"\"\n",
    "\n",
    "hsu_buildings = ['만우관','장공관','필헌관','소통관','송암관','늦봄관','장준하통일관']\n",
    "building_slice = hsu_buildings[1:4] #독립적인 객체\n",
    "building_slice[0] = '생활관'\n",
    "\n",
    "print(building_slice)\n",
    "print(hsu_buildings)"
   ]
  },
  {
   "cell_type": "code",
   "execution_count": 22,
   "id": "27470dac-3cee-403a-8538-1ed0e09fdc07",
   "metadata": {},
   "outputs": [
    {
     "name": "stdout",
     "output_type": "stream",
     "text": [
      "['해우리', '한식', '해우라면']\n"
     ]
    }
   ],
   "source": [
    "\"\"\"\n",
    "Multi-domensional Lists\n",
    "\"\"\"\n",
    "\n",
    "restaurents =[['해우리','한식','고s'],['짜장명가','중식','중화비빔밥'],\n",
    "             ['찌개동아리','한식','제육전골'],['맘스터치','양식','싸이버거']]\n",
    "restaurents[0][2]='해우라면'\n",
    "print(restaurents[0])"
   ]
  },
  {
   "cell_type": "code",
   "execution_count": 24,
   "id": "f9f3fb83-26e1-42ab-af7e-ed8c2a78b06d",
   "metadata": {},
   "outputs": [
    {
     "name": "stdout",
     "output_type": "stream",
     "text": [
      "['cake', 'cookie', 'bread', 'biscuit', 'tart']\n"
     ]
    }
   ],
   "source": [
    "\"\"\"\n",
    "Adding Lists Together\n",
    "\"\"\"\n",
    "\n",
    "items_one = ['cake','cookie','bread']\n",
    "items_two = ['biscuit','tart']\n",
    "\n",
    "total_items= items_one + items_two\n",
    "print(total_items)"
   ]
  },
  {
   "cell_type": "code",
   "execution_count": 57,
   "id": "efb09040-da0d-40bd-9819-ab5906db2d4d",
   "metadata": {},
   "outputs": [
    {
     "name": "stdout",
     "output_type": "stream",
     "text": [
      "5\n",
      "3\n",
      "['daisies', 'periwinkle', 'tulips']\n",
      "['Karla', 'Maxium', 'Vikorn', 'Martin', 'Isabella']\n",
      "['c', 'c++', 'java']\n",
      "['c++', 'java', 'count']\n",
      "[1, 2, 3, 4]\n",
      "['늦봄관', '만우관', '소통관', '송암관', '장공관', '장준하통일관', '필헌관']\n",
      "[1, 2, 3, 4]\n"
     ]
    }
   ],
   "source": [
    "\"\"\"\n",
    "Useful Methods for Lists\n",
    "\"\"\"\n",
    "\n",
    "#len() 리스트 크기를 리턴\n",
    "\n",
    "knapsack = [2,4,3,7,10]\n",
    "size =len(knapsack)\n",
    "print(size)\n",
    "\n",
    "#count() 특정아이템의 개수를 리턴\n",
    "\n",
    "backpack = ['pen','pencil','pen','book','pen']\n",
    "numPen = backpack.count('pen')\n",
    "print(numPen)\n",
    "\n",
    "#append() 끝에 추가\n",
    "\n",
    "orders = ['daisies','periwinkle']\n",
    "orders.append('tulips')\n",
    "print(orders)\n",
    "\n",
    "#insert() 원하는 위치에 추가 list.insert(index,item)\n",
    "\n",
    "store_line = ['Karla','Maxium','Martin','Isabella']\n",
    "store_line.insert(2,'Vikorn')\n",
    "print(store_line)\n",
    "\n",
    "#pop() 원하는 위치에 아이템을 삭제\n",
    "\n",
    "sw_subject = ['c','c++','java','count']\n",
    "sw_subject.pop(3)\n",
    "print(sw_subject)\n",
    "\n",
    "#remove() 특정아이템을 삭제\n",
    "\n",
    "sw_subject = ['c','c++','java','count']\n",
    "sw_subject.remove('c')\n",
    "print(sw_subject)\n",
    "\n",
    "#sort() 리스트내에 아이템들을 정렬\n",
    "\n",
    "number = [4,2,1,3]\n",
    "number.sort()\n",
    "print(number)\n",
    "hsu_buildings = ['만우관','장공관','필헌관','소통관','송암관','늦봄관','장준하통일관']\n",
    "hsu_buildings.sort()\n",
    "print(hsu_buildings)\n",
    "\n",
    "#sorted() 정렬된 리스트를 리턴,리스트를 정렬한 후 새로운 변수에 저장후 리턴\n",
    "\n",
    "numbers = [4,2,1,3]\n",
    "sorted_number = sorted(numbers)\n",
    "print(sorted_number)"
   ]
  },
  {
   "cell_type": "code",
   "execution_count": 5,
   "id": "2516777e-0ee7-4ce7-bd62-0b465699a988",
   "metadata": {},
   "outputs": [
    {
     "name": "stdout",
     "output_type": "stream",
     "text": [
      "1\n",
      "2\n",
      "3\n",
      "4\n",
      "5\n",
      "0\n",
      "1\n",
      "2\n",
      "3\n",
      "4\n",
      "5\n",
      "6\n",
      "7\n",
      "8\n",
      "9\n"
     ]
    }
   ],
   "source": [
    "\"\"\"\n",
    "for Loops\n",
    "\"\"\"\n",
    "\n",
    "nums = [1, 2, 3, 4, 5]\n",
    "\n",
    "for num in nums:\n",
    "    print(num)\n",
    "\n",
    "    \n",
    "# range(n) n번 만큼 반복하고 싶을 때 사용\n",
    "\n",
    "for i in range(10):\n",
    "    print(i)"
   ]
  },
  {
   "cell_type": "code",
   "execution_count": 73,
   "id": "5987eafe-1bef-4075-b35f-fe7605fce129",
   "metadata": {},
   "outputs": [
    {
     "name": "stdout",
     "output_type": "stream",
     "text": [
      "[1, 2, 3, 4, 5, 6, 7, 8, 9, 10]\n"
     ]
    }
   ],
   "source": [
    "\"\"\"\n",
    "List Comprehension\n",
    "\"\"\"\n",
    "\n",
    "one_to_ten = [i+1 for i in range(10)]\n",
    "print(one_to_ten)\n"
   ]
  },
  {
   "cell_type": "code",
   "execution_count": 76,
   "id": "1c855899-e7f0-477d-8d7d-d9c661663302",
   "metadata": {},
   "outputs": [
    {
     "name": "stdout",
     "output_type": "stream",
     "text": [
      "['해리 케인']\n"
     ]
    }
   ],
   "source": [
    "\"\"\"\n",
    "List comprehension including conditions\n",
    "\"\"\"\n",
    "\n",
    "hotspurs = [['손흥민', 'A+'],['델리알리', 'B'],['해리 케인', 'F']]\n",
    "\n",
    "poors = [player[0] for player in hotspurs if player[1] == 'F']\n",
    "print(poors)"
   ]
  },
  {
   "cell_type": "code",
   "execution_count": 3,
   "id": "e2415124-d1c1-4146-8fea-99eba68ad131",
   "metadata": {},
   "outputs": [
    {
     "name": "stdout",
     "output_type": "stream",
     "text": [
      "1 X 1 = 1\n",
      "1 X 2 = 2\n",
      "1 X 3 = 3\n",
      "1 X 4 = 4\n",
      "1 X 5 = 5\n",
      "1 X 6 = 6\n",
      "1 X 7 = 7\n",
      "1 X 8 = 8\n",
      "1 X 9 = 9\n",
      "2 X 1 = 2\n",
      "2 X 2 = 4\n",
      "2 X 3 = 6\n",
      "2 X 4 = 8\n",
      "2 X 5 = 10\n",
      "2 X 6 = 12\n",
      "2 X 7 = 14\n",
      "2 X 8 = 16\n",
      "2 X 9 = 18\n",
      "3 X 1 = 3\n",
      "3 X 2 = 6\n",
      "3 X 3 = 9\n",
      "3 X 4 = 12\n",
      "3 X 5 = 15\n",
      "3 X 6 = 18\n",
      "3 X 7 = 21\n",
      "3 X 8 = 24\n",
      "3 X 9 = 27\n",
      "4 X 1 = 4\n",
      "4 X 2 = 8\n",
      "4 X 3 = 12\n",
      "4 X 4 = 16\n",
      "4 X 5 = 20\n",
      "4 X 6 = 24\n",
      "4 X 7 = 28\n",
      "4 X 8 = 32\n",
      "4 X 9 = 36\n",
      "5 X 1 = 5\n",
      "5 X 2 = 10\n",
      "5 X 3 = 15\n",
      "5 X 4 = 20\n",
      "5 X 5 = 25\n",
      "5 X 6 = 30\n",
      "5 X 7 = 35\n",
      "5 X 8 = 40\n",
      "5 X 9 = 45\n",
      "6 X 1 = 6\n",
      "6 X 2 = 12\n",
      "6 X 3 = 18\n",
      "6 X 4 = 24\n",
      "6 X 5 = 30\n",
      "6 X 6 = 36\n",
      "6 X 7 = 42\n",
      "6 X 8 = 48\n",
      "6 X 9 = 54\n",
      "7 X 1 = 7\n",
      "7 X 2 = 14\n",
      "7 X 3 = 21\n",
      "7 X 4 = 28\n",
      "7 X 5 = 35\n",
      "7 X 6 = 42\n",
      "7 X 7 = 49\n",
      "7 X 8 = 56\n",
      "7 X 9 = 63\n",
      "8 X 1 = 8\n",
      "8 X 2 = 16\n",
      "8 X 3 = 24\n",
      "8 X 4 = 32\n",
      "8 X 5 = 40\n",
      "8 X 6 = 48\n",
      "8 X 7 = 56\n",
      "8 X 8 = 64\n",
      "8 X 9 = 72\n",
      "9 X 1 = 9\n",
      "9 X 2 = 18\n",
      "9 X 3 = 27\n",
      "9 X 4 = 36\n",
      "9 X 5 = 45\n",
      "9 X 6 = 54\n",
      "9 X 7 = 63\n",
      "9 X 8 = 72\n",
      "9 X 9 = 81\n"
     ]
    }
   ],
   "source": [
    "\"\"\"\n",
    "구구단 프로그램\n",
    "\"\"\"\n",
    "\n",
    "one_to_nine = [i+1 for i in range(9)]\n",
    "\n",
    "for i in one_to_nine:\n",
    "    for j in one_to_nine:\n",
    "        print(\"%d X %d = %d\" % (i, j, i*j))"
   ]
  }
 ],
 "metadata": {
  "kernelspec": {
   "display_name": "Python 3",
   "language": "python",
   "name": "python3"
  },
  "language_info": {
   "codemirror_mode": {
    "name": "ipython",
    "version": 3
   },
   "file_extension": ".py",
   "mimetype": "text/x-python",
   "name": "python",
   "nbconvert_exporter": "python",
   "pygments_lexer": "ipython3",
   "version": "3.8.8"
  }
 },
 "nbformat": 4,
 "nbformat_minor": 5
}
